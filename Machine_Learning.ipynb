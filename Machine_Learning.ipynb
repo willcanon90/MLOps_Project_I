{
 "cells": [
  {
   "cell_type": "code",
   "execution_count": 2,
   "metadata": {},
   "outputs": [],
   "source": [
    "import pandas as pd\n",
    "from sklearn.metrics.pairwise import cosine_similarity\n",
    "from sklearn.feature_extraction.text import TfidfVectorizer"
   ]
  },
  {
   "cell_type": "code",
   "execution_count": 3,
   "metadata": {},
   "outputs": [],
   "source": [
    "# Carga los archivos en un DataFrame\n",
    "steam_games = pd.read_csv('../data/steam_games.csv')\n",
    "users_items = pd.read_csv('../data/users_items.csv')\n",
    "users_reviews = pd.read_csv('../data/users_reviews.csv')"
   ]
  },
  {
   "cell_type": "code",
   "execution_count": 4,
   "metadata": {},
   "outputs": [],
   "source": [
    "muestra_steam_games_modelo = steam_games.head(20000)\n",
    "muestra_users_reviews_modelo = users_reviews.head(20000)\n",
    "\n"
   ]
  },
  {
   "cell_type": "code",
   "execution_count": 18,
   "metadata": {},
   "outputs": [],
   "source": [
    "def recomendacion_juego(game_id: int, top_n=5):\n",
    "    # Crear el vectorizador TF-IDF\n",
    "    tfidf_vectorizer = TfidfVectorizer()\n",
    "\n",
    "    # Transformar los datos de géneros en vectores numéricos y entrenar\n",
    "    tfidf_matrix = tfidf_vectorizer.fit_transform(muestra_steam_games_modelo['genres'])\n",
    "\n",
    "    # Calcular similitud de coseno entre los vectores\n",
    "    cosine_sim = cosine_similarity(tfidf_matrix, tfidf_matrix)\n",
    "\n",
    "    # Buscar el índice del juego con la ID proporcionada\n",
    "    idx = muestra_steam_games_modelo.index[muestra_steam_games_modelo['item_id'] == game_id].tolist()\n",
    "    recommended_indices = []  # Inicializar como una lista vacía\n",
    "\n",
    "    # Continuar con el procesamiento si se encontró alguna coincidencia\n",
    "    if idx:\n",
    "        idx = idx[0]\n",
    "        # Manejar adecuadamente si no se encontró ninguna coincidencia\n",
    "        sim_scores = list(enumerate(cosine_sim[idx]))\n",
    "        sim_scores = sorted(sim_scores, key=lambda x: x[1], reverse=True)\n",
    "        top_n = min(int(top_n), len(sim_scores))\n",
    "        recommended_indices = [i[0] for i in sim_scores[1:top_n+1]]\n",
    "\n",
    "    # Devolver los títulos de los juegos recomendados\n",
    "    return list(muestra_steam_games_modelo['title'].iloc[recommended_indices])\n",
    "\n"
   ]
  },
  {
   "cell_type": "code",
   "execution_count": 19,
   "metadata": {},
   "outputs": [
    {
     "data": {
      "text/plain": [
       "Index(['genres', 'title', 'release_date', 'specs', 'price', 'item_id',\n",
       "       'developer'],\n",
       "      dtype='object')"
      ]
     },
     "execution_count": 19,
     "metadata": {},
     "output_type": "execute_result"
    }
   ],
   "source": [
    "muestra_steam_games_modelo.columns"
   ]
  },
  {
   "cell_type": "code",
   "execution_count": 41,
   "metadata": {},
   "outputs": [],
   "source": [
    "def recomendacion_usuario(user_id: str, top_n=5):\n",
    "    # Filtrar las reseñas del usuario\n",
    "    user_reviews = muestra_users_reviews_modelo[muestra_users_reviews_modelo['user_id'] == user_id]\n",
    "\n",
    "    if not user_reviews.empty:\n",
    "        # Obtener el primer juego de las reseñas del usuario\n",
    "        game_id = user_reviews['item_id'].iloc[0]\n",
    "\n",
    "        # Llamar a la función recomendacion_juego con el ID del juego\n",
    "        recommended_games = recomendacion_juego(game_id=int(game_id), top_n=top_n)\n",
    "\n",
    "        return recommended_games\n",
    "    else:\n",
    "        return 'VACIO'\n",
    "\n",
    "\n",
    "\n"
   ]
  },
  {
   "cell_type": "code",
   "execution_count": 42,
   "metadata": {},
   "outputs": [
    {
     "data": {
      "text/plain": [
       "Index(['user_id', 'item_id', 'recommend', 'sentiment_analysis', 'posted_year'], dtype='object')"
      ]
     },
     "execution_count": 42,
     "metadata": {},
     "output_type": "execute_result"
    }
   ],
   "source": [
    "muestra_users_reviews_modelo.columns"
   ]
  },
  {
   "cell_type": "code",
   "execution_count": 47,
   "metadata": {},
   "outputs": [
    {
     "data": {
      "text/plain": [
       "['Battle Royale Trainer',\n",
       " 'Battle Royale Trainer',\n",
       " 'Army of Tentacles: (Not) A Cthulhu Dating Sim: Black GOAT of the Woods Edition',\n",
       " 'Army of Tentacles: (Not) A Cthulhu Dating Sim: Black GOAT of the Woods Edition',\n",
       " 'The first thrust of God']"
      ]
     },
     "execution_count": 47,
     "metadata": {},
     "output_type": "execute_result"
    }
   ],
   "source": [
    "recomendacion_usuario('doctr')\n"
   ]
  }
 ],
 "metadata": {
  "kernelspec": {
   "display_name": "Python 3",
   "language": "python",
   "name": "python3"
  },
  "language_info": {
   "codemirror_mode": {
    "name": "ipython",
    "version": 3
   },
   "file_extension": ".py",
   "mimetype": "text/x-python",
   "name": "python",
   "nbconvert_exporter": "python",
   "pygments_lexer": "ipython3",
   "version": "3.11.6"
  }
 },
 "nbformat": 4,
 "nbformat_minor": 2
}
